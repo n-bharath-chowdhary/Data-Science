{
 "cells": [
  {
   "cell_type": "code",
   "execution_count": 106,
   "metadata": {
    "collapsed": true
   },
   "outputs": [],
   "source": [
    "class detecting_faces():\n",
    "    def __init__(self,image_url,image_name):\n",
    "        self.image_url=image_url\n",
    "        self.image_name=image_name\n",
    "        urlretrieve(self.image_url,self.image_name)\n",
    "        self.image_object=cv2.imread(self.image_name)\n",
    "        self.image_process()\n",
    "        self.Face_Detector()\n",
    "        self.eye_detector()\n",
    "        \n",
    "    def image_process(self):\n",
    "        image=self.image_object\n",
    "        self.processed_image=cv2.cvtColor(image,cv2.COLOR_BGR2RGB)\n",
    "        self.plot_image(self.processed_image,'preprocessed image')\n",
    "    def plot_image(self,image,title):\n",
    "        rcParams['figure.figsize']=8,6\n",
    "        fig=plt.imshow(image,cmap='gray')\n",
    "        plt.title(title)\n",
    "        plt.axis('off')\n",
    "        plt.show()\n",
    "        \n",
    "    def Face_Detector(self):\n",
    "        self.haarcascade_url='https://raw.githubusercontent.com/opencv/opencv/master/data/haarcascades/haarcascade_frontalface_default.xml'\n",
    "        self.haarcascade_name='haarcascade_frontalface_default.xml'\n",
    "        urlretrieve(self.haarcascade_url,self.haarcascade_name)\n",
    "        image_detect=cv2.CascadeClassifier(self.haarcascade_name)\n",
    "        faces_list=image_detect.detectMultiScale(self.processed_image)\n",
    "        for faces in faces_list:\n",
    "            (x,y,w,h)=faces\n",
    "            cv2.rectangle(self.processed_image,(x,y),(x+w,y+h),(0,255,0),(3))\n",
    "        self.plot_image(self.processed_image,'Face_ Detector: post_processed_image')    \n",
    "    def eye_detector(self)    :\n",
    "        self.haarcascade_url='https://raw.githubusercontent.com/opencv/opencv/master/data/haarcascades/haarcascade_eye.xml'\n",
    "        self.haarcascade_name='haarcascade_eye.xml'\n",
    "        urlretrieve(self.haarcascade_url,self.haarcascade_name)\n",
    "        eye_detect=cv2.CascadeClassifier(self.haarcascade_name)\n",
    "        eyes_list=eye_detect.detectMultiScale(self.processed_image)\n",
    "        print(eyes_list)\n",
    "        for eyes in eyes_list:\n",
    "            (ex,ey,ew,eh)=eyes\n",
    "            cv2.rectangle(self.processed_image,(ex,ey),(np.int(ex+ew),np.int(ey+eh)),(0,25,0),(6))\n",
    "        self.plot_image(self.processed_image,'Eye Detector: post_processed_image')    "
   ]
  },
  {
   "cell_type": "code",
   "execution_count": null,
   "metadata": {
    "collapsed": true
   },
   "outputs": [],
   "source": []
  }
 ],
 "metadata": {
  "anaconda-cloud": {},
  "kernelspec": {
   "display_name": "Python [conda root]",
   "language": "python",
   "name": "conda-root-py"
  },
  "language_info": {
   "codemirror_mode": {
    "name": "ipython",
    "version": 3
   },
   "file_extension": ".py",
   "mimetype": "text/x-python",
   "name": "python",
   "nbconvert_exporter": "python",
   "pygments_lexer": "ipython3",
   "version": "3.5.2"
  }
 },
 "nbformat": 4,
 "nbformat_minor": 1
}
